{
 "cells": [
  {
   "cell_type": "markdown",
   "metadata": {},
   "source": [
    "#### Write a Python Program to Add Two Matrices?"
   ]
  },
  {
   "cell_type": "markdown",
   "metadata": {},
   "source": [
    "At first let's create a matrix in convensional way"
   ]
  },
  {
   "cell_type": "markdown",
   "metadata": {},
   "source": [
    "###### Creating a matrix"
   ]
  },
  {
   "cell_type": "code",
   "execution_count": 8,
   "metadata": {
    "scrolled": false
   },
   "outputs": [
    {
     "name": "stdout",
     "output_type": "stream",
     "text": [
      "enter row number3\n",
      "enter col number3\n",
      "enter number1\n",
      "enter number2\n",
      "enter number3\n",
      "enter number4\n",
      "enter number5\n",
      "enter number6\n",
      "enter number7\n",
      "enter number8\n",
      "enter number9\n"
     ]
    }
   ],
   "source": [
    "row=int(input(\"enter row number\"))\n",
    "col=int(input(\"enter col number\"))\n",
    "mat=[]\n",
    "for i in range(row):\n",
    "    a=[]\n",
    "    for j in range(col):\n",
    "        a.append(int(input(\"enter number\")))\n",
    "    mat.append(a)\n",
    "    \n",
    "        "
   ]
  },
  {
   "cell_type": "markdown",
   "metadata": {},
   "source": [
    "###### Displaying the matrix"
   ]
  },
  {
   "cell_type": "code",
   "execution_count": 13,
   "metadata": {},
   "outputs": [
    {
     "name": "stdout",
     "output_type": "stream",
     "text": [
      "1 2 3 4 \n",
      "5 6 7 8 \n",
      "9 10 11 12 \n",
      "13 14 15 16 \n"
     ]
    }
   ],
   "source": [
    "for i in range(row):\n",
    "    for j in range(col):\n",
    "        print(mat[i][j],end=\" \")\n",
    "    print()\n"
   ]
  },
  {
   "cell_type": "markdown",
   "metadata": {},
   "source": [
    "The question can be solved in two ways. 1. logical method and 2. one line (easy method). let's explore both for practice"
   ]
  },
  {
   "cell_type": "code",
   "execution_count": 6,
   "metadata": {},
   "outputs": [
    {
     "name": "stdout",
     "output_type": "stream",
     "text": [
      "enter row number2\n",
      "enter col number2\n",
      "enter number1\n",
      "enter number1\n",
      "enter number1\n",
      "enter number1\n",
      "matrix 1 is created\n",
      "enter row number2\n",
      "enter col number2\n",
      "enter number2\n",
      "enter number2\n",
      "enter number2\n",
      "enter number2\n"
     ]
    }
   ],
   "source": [
    "#Creating matrix 1\n",
    "row1=int(input(\"enter row number\"))\n",
    "col1=int(input(\"enter col number\"))\n",
    "mat1=[]\n",
    "for i in range(row1):\n",
    "    a=[]\n",
    "    for j in range(col1):\n",
    "        a.append(int(input(\"enter number\")))\n",
    "    mat1.append(a)\n",
    "print(\"matrix 1 is created\")\n",
    "#creating matrix 2\n",
    "row2=int(input(\"enter row number\"))\n",
    "col2=int(input(\"enter col number\"))\n",
    "mat2=[]\n",
    "for i in range(row2):\n",
    "    a=[]\n",
    "    for j in range(col2):\n",
    "        a.append(int(input(\"enter number\")))\n",
    "    mat2.append(a)\n",
    "resultant=[]\n",
    "if row1==row2 and col1==col2:\n",
    "    for i in range(row1):\n",
    "        a=[]\n",
    "        for j in range (col1):\n",
    "            a.append(mat1[i][j]+mat2[i][j])\n",
    "        resultant.append(a)\n"
   ]
  },
  {
   "cell_type": "code",
   "execution_count": 7,
   "metadata": {
    "scrolled": true
   },
   "outputs": [
    {
     "data": {
      "text/plain": [
       "[[3, 3], [3, 3]]"
      ]
     },
     "execution_count": 7,
     "metadata": {},
     "output_type": "execute_result"
    }
   ],
   "source": [
    "resultant"
   ]
  },
  {
   "cell_type": "code",
   "execution_count": 8,
   "metadata": {
    "scrolled": true
   },
   "outputs": [
    {
     "name": "stdout",
     "output_type": "stream",
     "text": [
      "3 3 \n",
      "3 3 \n"
     ]
    }
   ],
   "source": [
    "for i in resultant:\n",
    "    for j in i:\n",
    "        print(j, end=\" \")\n",
    "    print()"
   ]
  },
  {
   "cell_type": "code",
   "execution_count": 15,
   "metadata": {},
   "outputs": [
    {
     "name": "stdout",
     "output_type": "stream",
     "text": [
      "[3 3]\n",
      "[3 3]\n",
      "<class 'numpy.ndarray'>\n"
     ]
    }
   ],
   "source": [
    "import numpy as np\n",
    "numpy_mat1=np.array(mat1)\n",
    "numpy_mat2=np.array(mat2)\n",
    "numpy_sum= numpy_mat1+numpy_mat2\n",
    "for i in numpy_sum:\n",
    "    print(i)\n",
    "print(type(numpy_sum))"
   ]
  },
  {
   "cell_type": "markdown",
   "metadata": {},
   "source": [
    "#### Write a Python Program to Transpose a Matrix?"
   ]
  },
  {
   "cell_type": "code",
   "execution_count": 19,
   "metadata": {
    "scrolled": true
   },
   "outputs": [
    {
     "data": {
      "text/plain": [
       "array([[ 5,  9, 13],\n",
       "       [ 7, 11,  7]])"
      ]
     },
     "execution_count": 19,
     "metadata": {},
     "output_type": "execute_result"
    }
   ],
   "source": [
    "numpy_mat.transpose()"
   ]
  },
  {
   "cell_type": "markdown",
   "metadata": {},
   "source": [
    "\n",
    "#### Write a Python Program to Multiply Two Matrices?"
   ]
  },
  {
   "cell_type": "code",
   "execution_count": 6,
   "metadata": {},
   "outputs": [],
   "source": [
    "numpy_mat1=np.array(mat1)\n",
    "numpy_mat2=np.array(mat2)"
   ]
  },
  {
   "cell_type": "code",
   "execution_count": 8,
   "metadata": {},
   "outputs": [
    {
     "data": {
      "text/plain": [
       "array([[22, 28],\n",
       "       [49, 64]])"
      ]
     },
     "execution_count": 8,
     "metadata": {},
     "output_type": "execute_result"
    }
   ],
   "source": [
    "mat_multiplication= numpy_mat1.dot(numpy_mat2)\n",
    "mat_multiplication"
   ]
  },
  {
   "cell_type": "markdown",
   "metadata": {},
   "source": [
    "#### Write a Python Program to Sort Words in Alphabetic Order?"
   ]
  },
  {
   "cell_type": "code",
   "execution_count": 10,
   "metadata": {
    "scrolled": true
   },
   "outputs": [
    {
     "data": {
      "text/plain": [
       "['apple', 'car', 'rik', 'sunny']"
      ]
     },
     "execution_count": 10,
     "metadata": {},
     "output_type": "execute_result"
    }
   ],
   "source": [
    "l=[\"rik\",\"sunny\",\"apple\",\"car\"]\n",
    "l.sort()\n",
    "l"
   ]
  },
  {
   "cell_type": "markdown",
   "metadata": {},
   "source": [
    "#### Write a Python Program to Remove Punctuation From a String?\n"
   ]
  },
  {
   "cell_type": "code",
   "execution_count": 5,
   "metadata": {
    "scrolled": true
   },
   "outputs": [
    {
     "data": {
      "text/plain": [
       "'IamSoumyadeepIamlearningdatasciencefromIneuron'"
      ]
     },
     "execution_count": 5,
     "metadata": {},
     "output_type": "execute_result"
    }
   ],
   "source": [
    "s=\"I:am Soumyadeep} I am? learning (data science) from Ineuron :\"\n",
    "x=\"\"\n",
    "#removing punchtuations from the str\n",
    "for i in s:\n",
    "    if i.isalnum():\n",
    "        x+=i\n",
    "x    "
   ]
  },
  {
   "cell_type": "markdown",
   "metadata": {},
   "source": [
    "###### Using regex"
   ]
  },
  {
   "cell_type": "code",
   "execution_count": 33,
   "metadata": {},
   "outputs": [
    {
     "data": {
      "text/plain": [
       "'I am Soumyadeep I am learning data science from Ineuron '"
      ]
     },
     "execution_count": 33,
     "metadata": {},
     "output_type": "execute_result"
    }
   ],
   "source": [
    "import re\n",
    "x=re.sub('[^A-Za-z0-9]+', ' ', s)\n",
    "x"
   ]
  }
 ],
 "metadata": {
  "kernelspec": {
   "display_name": "Python 3",
   "language": "python",
   "name": "python3"
  },
  "language_info": {
   "codemirror_mode": {
    "name": "ipython",
    "version": 3
   },
   "file_extension": ".py",
   "mimetype": "text/x-python",
   "name": "python",
   "nbconvert_exporter": "python",
   "pygments_lexer": "ipython3",
   "version": "3.8.3"
  }
 },
 "nbformat": 4,
 "nbformat_minor": 4
}
